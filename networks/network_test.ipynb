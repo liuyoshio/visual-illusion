{
 "cells": [
  {
   "cell_type": "code",
   "execution_count": 2,
   "metadata": {},
   "outputs": [
    {
     "name": "stdout",
     "output_type": "stream",
     "text": [
      "vgg_conv3x3\n",
      "Output shape torch.Size([4, 2, 256, 256])\n"
     ]
    }
   ],
   "source": [
    "import Unet\n",
    "import VGG_conv3x3\n",
    "\n",
    "import torch\n",
    "\n",
    "deive = \"cpu\"\n",
    "network = VGG_conv3x3.get_model()\n",
    "print(network.get_network_dir())\n",
    "def test(decoder):\n",
    "        # 4x3x256x256\n",
    "        images = torch.randn(4, 3, 256, 256)\n",
    "        outputs = decoder(images)\n",
    "        print(\"Output shape\", outputs.shape)\n",
    "    \n",
    "test(network)"
   ]
  }
 ],
 "metadata": {
  "kernelspec": {
   "display_name": "base",
   "language": "python",
   "name": "python3"
  },
  "language_info": {
   "codemirror_mode": {
    "name": "ipython",
    "version": 3
   },
   "file_extension": ".py",
   "mimetype": "text/x-python",
   "name": "python",
   "nbconvert_exporter": "python",
   "pygments_lexer": "ipython3",
   "version": "3.9.12"
  },
  "orig_nbformat": 4,
  "vscode": {
   "interpreter": {
    "hash": "a30ec970e4e935acce5f7a2ee0f20876d47ab42197f0e14e5f3fcb422ba876c4"
   }
  }
 },
 "nbformat": 4,
 "nbformat_minor": 2
}
