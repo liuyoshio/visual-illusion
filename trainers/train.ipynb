{
 "cells": [
  {
   "cell_type": "code",
   "execution_count": 1,
   "metadata": {},
   "outputs": [
    {
     "name": "stdout",
     "output_type": "stream",
     "text": [
      "Using device: cuda\n"
     ]
    }
   ],
   "source": [
    "import os\n",
    "import sys\n",
    "sys.path.append('../')\n",
    "\n",
    "from helpers import helper\n",
    "from dataloaders import dataloader\n",
    "from networks import Unet\n",
    "from networks import VGG_conv3x3\n",
    "import config\n",
    "\n",
    "import cv2\n",
    "import torch\n",
    "import torch.nn as nn\n",
    "import matplotlib.pyplot as plt\n",
    "from tqdm import tqdm\n",
    "\n",
    "device = config.get_device()\n",
    "trainset, train_dl = dataloader.getData('../../datasets/train.csv', batch_size=4, transform=config.transform, num_workers=config.num_workers)\n",
    "testset, test_dl = dataloader.getData('../../datasets/test.csv', batch_size=4, transform=config.transform, num_workers=config.num_workers)"
   ]
  },
  {
   "cell_type": "code",
   "execution_count": 29,
   "metadata": {},
   "outputs": [
    {
     "name": "stdout",
     "output_type": "stream",
     "text": [
      "Load model from ../models/VGG.pth\n",
      "Input shape: torch.Size([4, 3, 256, 256])\n",
      "Output shape torch.Size([4, 2, 256, 256])\n",
      "loss: 2389.336669921875\n"
     ]
    },
    {
     "data": {
      "image/png": "[encoded data removed]",
      "text/plain": [
       "<Figure size 432x288 with 1 Axes>"
      ]
     },
     "metadata": {
      "needs_background": "light"
     },
     "output_type": "display_data"
    }
   ],
   "source": [
    "network = VGG_conv3x3.get_model(model_path='../models/VGG.pth')\n",
    "network.save()\n",
    "def test(decoder, dataloader):\n",
    "    decoder.to(device)\n",
    "    for images, labels in dataloader:\n",
    "        images = images.to(device)\n",
    "        labels = labels.to(device)\n",
    "        print(\"Input shape:\", images.shape)\n",
    "        outputs = decoder(images)\n",
    "\n",
    "        helper.plot_tensor_output(outputs[0])\n",
    "        print(\"Output shape\", outputs.shape)\n",
    "        break\n",
    "\n",
    "    loss = nn.MSELoss(reduction='sum')(outputs, labels)\n",
    "    loss.backward()\n",
    "    print(f'loss: {loss.item()}')\n",
    "    \n",
    "test(network, test_dl)"
   ]
  },
  {
   "cell_type": "code",
   "execution_count": 27,
   "metadata": {},
   "outputs": [
    {
     "name": "stdout",
     "output_type": "stream",
     "text": [
      "Epoch 1/10\n"
     ]
    },
    {
     "name": "stderr",
     "output_type": "stream",
     "text": [
      "100%|██████████| 2500/2500 [07:36<00:00,  5.47it/s]\n",
      "100%|██████████| 500/500 [01:42<00:00,  4.86it/s]\n"
     ]
    },
    {
     "name": "stdout",
     "output_type": "stream",
     "text": [
      "Train Loss: 3403.6279; Test Loss: 2250.9407\n",
      "Epoch 2/10\n"
     ]
    },
    {
     "name": "stderr",
     "output_type": "stream",
     "text": [
      "100%|██████████| 2500/2500 [07:31<00:00,  5.54it/s]\n",
      "100%|██████████| 500/500 [01:41<00:00,  4.93it/s]\n"
     ]
    },
    {
     "name": "stdout",
     "output_type": "stream",
     "text": [
      "Train Loss: 2214.8494; Test Loss: 2269.7251\n",
      "Epoch 3/10\n"
     ]
    },
    {
     "name": "stderr",
     "output_type": "stream",
     "text": [
      "100%|██████████| 2500/2500 [07:31<00:00,  5.53it/s]\n",
      "100%|██████████| 500/500 [01:42<00:00,  4.89it/s]\n"
     ]
    },
    {
     "name": "stdout",
     "output_type": "stream",
     "text": [
      "Train Loss: 2185.0896; Test Loss: 2165.1484\n",
      "Epoch 4/10\n"
     ]
    },
    {
     "name": "stderr",
     "output_type": "stream",
     "text": [
      "100%|██████████| 2500/2500 [07:34<00:00,  5.50it/s]\n",
      "100%|██████████| 500/500 [01:41<00:00,  4.91it/s]\n"
     ]
    },
    {
     "name": "stdout",
     "output_type": "stream",
     "text": [
      "Train Loss: 2171.3118; Test Loss: 2330.0361\n",
      "Epoch 5/10\n"
     ]
    },
    {
     "name": "stderr",
     "output_type": "stream",
     "text": [
      "100%|██████████| 2500/2500 [07:31<00:00,  5.54it/s]\n",
      "100%|██████████| 500/500 [01:42<00:00,  4.90it/s]\n"
     ]
    },
    {
     "name": "stdout",
     "output_type": "stream",
     "text": [
      "Train Loss: 2168.7205; Test Loss: 2124.4553\n",
      "Epoch 6/10\n"
     ]
    },
    {
     "name": "stderr",
     "output_type": "stream",
     "text": [
      "100%|██████████| 2500/2500 [07:32<00:00,  5.53it/s]\n",
      "100%|██████████| 500/500 [01:41<00:00,  4.93it/s]\n"
     ]
    },
    {
     "name": "stdout",
     "output_type": "stream",
     "text": [
      "Train Loss: 2160.4255; Test Loss: 2068.8315\n",
      "Epoch 7/10\n"
     ]
    },
    {
     "name": "stderr",
     "output_type": "stream",
     "text": [
      "100%|██████████| 2500/2500 [07:29<00:00,  5.56it/s]\n",
      "100%|██████████| 500/500 [01:41<00:00,  4.91it/s]\n"
     ]
    },
    {
     "name": "stdout",
     "output_type": "stream",
     "text": [
      "Train Loss: 2165.3354; Test Loss: 2138.0720\n",
      "Epoch 8/10\n"
     ]
    },
    {
     "name": "stderr",
     "output_type": "stream",
     "text": [
      "100%|██████████| 2500/2500 [07:34<00:00,  5.50it/s]\n",
      "100%|██████████| 500/500 [01:41<00:00,  4.92it/s]\n"
     ]
    },
    {
     "name": "stdout",
     "output_type": "stream",
     "text": [
      "Train Loss: 2154.4490; Test Loss: 2070.3401\n",
      "Epoch 9/10\n"
     ]
    },
    {
     "name": "stderr",
     "output_type": "stream",
     "text": [
      "100%|██████████| 2500/2500 [07:33<00:00,  5.51it/s]\n",
      "100%|██████████| 500/500 [01:41<00:00,  4.92it/s]\n"
     ]
    },
    {
     "name": "stdout",
     "output_type": "stream",
     "text": [
      "Train Loss: 2158.5913; Test Loss: 2054.4221\n",
      "Epoch 10/10\n"
     ]
    },
    {
     "name": "stderr",
     "output_type": "stream",
     "text": [
      "100%|██████████| 2500/2500 [07:31<00:00,  5.54it/s]\n",
      "100%|██████████| 500/500 [01:41<00:00,  4.92it/s]"
     ]
    },
    {
     "name": "stdout",
     "output_type": "stream",
     "text": [
      "Train Loss: 2151.8940; Test Loss: 2152.3953\n"
     ]
    },
    {
     "name": "stderr",
     "output_type": "stream",
     "text": [
      "\n"
     ]
    }
   ],
   "source": [
    "def train_one_epoch(network, train_dl, criterion, optimizer, scaler, device):\n",
    "    network.train()\n",
    "    train_loss = 0.0\n",
    "    for images, labels in tqdm(train_dl):\n",
    "        images = images.to(device)\n",
    "        labels = labels.to(device)\n",
    "        optimizer.zero_grad()\n",
    "        with torch.cuda.amp.autocast(enabled=True):\n",
    "            output = network(images)\n",
    "            loss = criterion(output, labels)\n",
    "        scaler.scale(loss).backward()\n",
    "        scaler.step(optimizer)\n",
    "        scaler.update()\n",
    "        train_loss += loss\n",
    "        del output\n",
    "        del loss\n",
    "    # Decay LR by a factor of 0.1 every 2 epochs\n",
    "    # exp_lr_scheduler.step()\n",
    "    return train_loss/len(train_dl)\n",
    "\n",
    "def test(network, val_dl, criterion, device):\n",
    "    network.eval()\n",
    "    val_loss = 0.0\n",
    "    for images, labels in tqdm(val_dl):\n",
    "        images = images.to(device)\n",
    "        labels = labels.to(device)\n",
    "        output = network(images)\n",
    "        loss = criterion(output, labels)\n",
    "        val_loss += loss\n",
    "        del output\n",
    "        del loss\n",
    "    return val_loss/len(val_dl)\n",
    "\n",
    "Train_loss = []\n",
    "Test_loss = []\n",
    "\n",
    "def train(network, train_dl, test_dl, device, epochs, lr=0.001):\n",
    "    network.to(device)\n",
    "    network.train()\n",
    "\n",
    "    criterion = nn.MSELoss(reduction=\"sum\")\n",
    "    scaler = torch.cuda.amp.GradScaler()\n",
    "    \n",
    "    for epoch in range(epochs):\n",
    "        optimizer = torch.optim.Adam(network.parameters(), lr)\n",
    "        print('Epoch {}/{}'.format(epoch+1, epochs))\n",
    "        train_loss = train_one_epoch(network, train_dl, criterion, optimizer, scaler, device)\n",
    "        Train_loss.append(train_loss)\n",
    "\n",
    "        with torch.no_grad():\n",
    "            test_loss = test(network, test_dl, criterion, device)\n",
    "        Test_loss.append(test_loss)\n",
    "\n",
    "        print('Train Loss: {:.4f}; Test Loss: {:.4f}'.format(train_loss, test_loss))\n",
    "        network.save()\n",
    "\n",
    "\n",
    "train(network, train_dl, test_dl, device, 10, lr=0.001)"
   ]
  },
  {
   "cell_type": "code",
   "execution_count": 31,
   "metadata": {},
   "outputs": [
    {
     "ename": "AttributeError",
     "evalue": "'list' object has no attribute 'cpu'",
     "output_type": "error",
     "traceback": [
      "\u001b[1;31m---------------------------------------------------------------------------\u001b[0m",
      "\u001b[1;31mAttributeError\u001b[0m                            Traceback (most recent call last)",
      "\u001b[1;32mc:\\Users\\jiawe\\Desktop\\Workspace\\Grad_thesis\\zollner-illusion\\trainers\\train.ipynb Cell 4\u001b[0m in \u001b[0;36m<cell line: 8>\u001b[1;34m()\u001b[0m\n\u001b[0;32m      <a href='vscode-notebook-cell:/c%3A/Users/jiawe/Desktop/Workspace/Grad_thesis/zollner-illusion/trainers/train.ipynb#W3sZmlsZQ%3D%3D?line=4'>5</a>\u001b[0m \u001b[39mfor\u001b[39;00m loss \u001b[39min\u001b[39;00m Test_loss:\n\u001b[0;32m      <a href='vscode-notebook-cell:/c%3A/Users/jiawe/Desktop/Workspace/Grad_thesis/zollner-illusion/trainers/train.ipynb#W3sZmlsZQ%3D%3D?line=5'>6</a>\u001b[0m     loss \u001b[39m=\u001b[39m loss\u001b[39m.\u001b[39mcpu()\u001b[39m.\u001b[39mdetach()\u001b[39m.\u001b[39mnumpy()\n\u001b[1;32m----> <a href='vscode-notebook-cell:/c%3A/Users/jiawe/Desktop/Workspace/Grad_thesis/zollner-illusion/trainers/train.ipynb#W3sZmlsZQ%3D%3D?line=7'>8</a>\u001b[0m df \u001b[39m=\u001b[39m pd\u001b[39m.\u001b[39mDataFrame({\u001b[39m'\u001b[39m\u001b[39mtrain_loss\u001b[39m\u001b[39m'\u001b[39m: Train_loss\u001b[39m.\u001b[39;49mcpu(), \u001b[39m'\u001b[39m\u001b[39mtest_loss\u001b[39m\u001b[39m'\u001b[39m: Test_loss\u001b[39m.\u001b[39mcpu()})\n\u001b[0;32m      <a href='vscode-notebook-cell:/c%3A/Users/jiawe/Desktop/Workspace/Grad_thesis/zollner-illusion/trainers/train.ipynb#W3sZmlsZQ%3D%3D?line=8'>9</a>\u001b[0m df\u001b[39m.\u001b[39mto_csv(\u001b[39mf\u001b[39m\u001b[39m'\u001b[39m\u001b[39m../../datasets/experiment//loss_\u001b[39m\u001b[39m{\u001b[39;00mnetwork\u001b[39m.\u001b[39mget_network_dir\u001b[39m}\u001b[39;00m\u001b[39m.csv\u001b[39m\u001b[39m'\u001b[39m, index\u001b[39m=\u001b[39m\u001b[39mFalse\u001b[39;00m)\n",
      "\u001b[1;31mAttributeError\u001b[0m: 'list' object has no attribute 'cpu'"
     ]
    }
   ],
   "source": [
    "# save train loss and test loss in a csv file named 'loss_{network_dir}.txt'\n",
    "import pandas as pd\n",
    "for loss in Train_loss:\n",
    "    loss = loss.cpu().detach().numpy()\n",
    "for loss in Test_loss:\n",
    "    loss = loss.cpu().detach().numpy()\n",
    "\n",
    "df = pd.DataFrame({'train_loss': Train_loss.cpu(), 'test_loss': Test_loss.cpu()})\n",
    "df.to_csv(f'../../datasets/experiment//loss_{network.get_network_dir}.csv', index=False)"
   ]
  },
  {
   "cell_type": "code",
   "execution_count": 25,
   "metadata": {},
   "outputs": [
    {
     "data": {
      "text/plain": [
       "[tensor(0.0058, device='cuda:0', grad_fn=<DivBackward0>),\n",
       " tensor(0.0023, device='cuda:0', grad_fn=<DivBackward0>),\n",
       " tensor(0.0015, device='cuda:0', grad_fn=<DivBackward0>),\n",
       " tensor(0.0010, device='cuda:0', grad_fn=<DivBackward0>),\n",
       " tensor(0.0009, device='cuda:0', grad_fn=<DivBackward0>),\n",
       " tensor(0.0008, device='cuda:0', grad_fn=<DivBackward0>),\n",
       " tensor(0.0008, device='cuda:0', grad_fn=<DivBackward0>),\n",
       " tensor(0.0008, device='cuda:0', grad_fn=<DivBackward0>),\n",
       " tensor(0.0008, device='cuda:0', grad_fn=<DivBackward0>),\n",
       " tensor(0.0008, device='cuda:0', grad_fn=<DivBackward0>)]"
      ]
     },
     "execution_count": 25,
     "metadata": {},
     "output_type": "execute_result"
    }
   ],
   "source": [
    "Train_loss"
   ]
  },
  {
   "cell_type": "code",
   "execution_count": 17,
   "metadata": {},
   "outputs": [
    {
     "data": {
      "image/png": "[encoded data removed]",
      "text/plain": [
       "<Figure size 432x288 with 1 Axes>"
      ]
     },
     "metadata": {
      "needs_background": "light"
     },
     "output_type": "display_data"
    },
    {
     "data": {
      "text/plain": [
       "<Figure size 432x288 with 0 Axes>"
      ]
     },
     "metadata": {},
     "output_type": "display_data"
    }
   ],
   "source": [
    "import matplotlib.pyplot as plt\n",
    "import numpy as np\n",
    "\n",
    "# Create an array of values ranging from 0 to 1\n",
    "hue_values = np.linspace(0, 1, 180)\n",
    "\n",
    "# Create a colormap using the 'hsv' color space with the hue values\n",
    "colormap = plt.get_cmap('hsv')\n",
    "\n",
    "# Create a figure and axis\n",
    "fig, ax = plt.subplots()\n",
    "\n",
    "\n",
    "# Plot the colormap using a colorbar\n",
    "ax.imshow([hue_values], cmap=colormap, aspect='auto')\n",
    "# set axis labels\n",
    "ax.set_xlabel('Hue')\n",
    "ax.set_ybound([0, 0.5])\n",
    "ax.set_ylabel('Colormap')\n",
    "\n",
    "# Display the plot\n",
    "plt.show()\n",
    "\n"
   ]
  }
 ],
 "metadata": {
  "kernelspec": {
   "display_name": "base",
   "language": "python",
   "name": "python3"
  },
  "language_info": {
   "codemirror_mode": {
    "name": "ipython",
    "version": 3
   },
   "file_extension": ".py",
   "mimetype": "text/x-python",
   "name": "python",
   "nbconvert_exporter": "python",
   "pygments_lexer": "ipython3",
   "version": "3.9.12"
  },
  "orig_nbformat": 4,
  "vscode": {
   "interpreter": {
    "hash": "a30ec970e4e935acce5f7a2ee0f20876d47ab42197f0e14e5f3fcb422ba876c4"
   }
  }
 },
 "nbformat": 4,
 "nbformat_minor": 2
}
