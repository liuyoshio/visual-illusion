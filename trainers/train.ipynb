{
 "cells": [
  {
   "cell_type": "code",
   "execution_count": 1,
   "metadata": {},
   "outputs": [
    {
     "name": "stdout",
     "output_type": "stream",
     "text": [
      "Using device: cuda\n"
     ]
    }
   ],
   "source": [
    "import os\n",
    "import sys\n",
    "sys.path.append('../')\n",
    "\n",
    "from helpers import helper\n",
    "from dataloaders import dataloader\n",
    "from networks import Unet\n",
    "import config\n",
    "\n",
    "import cv2\n",
    "import torch\n",
    "import torch.nn as nn\n",
    "import matplotlib.pyplot as plt\n",
    "from tqdm import tqdm\n",
    "\n",
    "device = config.get_device()\n",
    "trainset, train_dl = dataloader.getData('../../datasets/train.csv', batch_size=4, transform=config.transform, num_workers=config.num_workers)\n",
    "testset, test_dl = dataloader.getData('../../datasets/test.csv', batch_size=4, transform=config.transform, num_workers=config.num_workers)"
   ]
  },
  {
   "cell_type": "code",
   "execution_count": 3,
   "metadata": {},
   "outputs": [
    {
     "name": "stdout",
     "output_type": "stream",
     "text": [
      "Load model from ../models/unet_default.pth\n",
      "Input shape: torch.Size([4, 3, 256, 256])\n",
      "Output shape torch.Size([4, 2, 256, 256])\n",
      "loss: 444.4649963378906\n"
     ]
    },
    {
     "data": {
      "image/png": "[encoded data removed]",
      "text/plain": [
       "<Figure size 432x288 with 1 Axes>"
      ]
     },
     "metadata": {
      "needs_background": "light"
     },
     "output_type": "display_data"
    }
   ],
   "source": [
    "network = Unet.get_model()\n",
    "network.save()\n",
    "\n",
    "def test(decoder, dataloader):\n",
    "    decoder.to(device)\n",
    "    for images, labels in dataloader:\n",
    "        images = images.to(device)\n",
    "        labels = labels.to(device)\n",
    "        print(\"Input shape:\", images.shape)\n",
    "        outputs = decoder(images)\n",
    "\n",
    "        helper.plot_tensor_output(outputs[0])\n",
    "        print(\"Output shape\", outputs.shape)\n",
    "        break\n",
    "\n",
    "    loss = nn.MSELoss(reduction='sum')(outputs, labels)\n",
    "    loss.backward()\n",
    "    print(f'loss: {loss.item()}')\n",
    "    \n",
    "test(network, test_dl)"
   ]
  },
  {
   "cell_type": "code",
   "execution_count": 4,
   "metadata": {},
   "outputs": [
    {
     "name": "stdout",
     "output_type": "stream",
     "text": [
      "Epoch 1/50\n"
     ]
    },
    {
     "name": "stderr",
     "output_type": "stream",
     "text": [
      "  0%|          | 0/2500 [00:02<?, ?it/s]\n"
     ]
    },
    {
     "ename": "KeyboardInterrupt",
     "evalue": "",
     "output_type": "error",
     "traceback": [
      "\u001b[1;31m---------------------------------------------------------------------------\u001b[0m",
      "\u001b[1;31mKeyboardInterrupt\u001b[0m                         Traceback (most recent call last)",
      "\u001b[1;32mc:\\Users\\jiawe\\Desktop\\Workspace\\Grad_thesis\\zollner-illusion\\trainers\\trainer_test.ipynb Cell 3\u001b[0m in \u001b[0;36m<cell line: 55>\u001b[1;34m()\u001b[0m\n\u001b[0;32m     <a href='vscode-notebook-cell:/c%3A/Users/jiawe/Desktop/Workspace/Grad_thesis/zollner-illusion/trainers/trainer_test.ipynb#W2sZmlsZQ%3D%3D?line=51'>52</a>\u001b[0m         \u001b[39mprint\u001b[39m(\u001b[39m'\u001b[39m\u001b[39mTrain Loss: \u001b[39m\u001b[39m{:.4f}\u001b[39;00m\u001b[39m; Test Loss: \u001b[39m\u001b[39m{:.4f}\u001b[39;00m\u001b[39m'\u001b[39m\u001b[39m.\u001b[39mformat(train_loss, test_loss))\n\u001b[0;32m     <a href='vscode-notebook-cell:/c%3A/Users/jiawe/Desktop/Workspace/Grad_thesis/zollner-illusion/trainers/trainer_test.ipynb#W2sZmlsZQ%3D%3D?line=52'>53</a>\u001b[0m         network\u001b[39m.\u001b[39msave()\n\u001b[1;32m---> <a href='vscode-notebook-cell:/c%3A/Users/jiawe/Desktop/Workspace/Grad_thesis/zollner-illusion/trainers/trainer_test.ipynb#W2sZmlsZQ%3D%3D?line=54'>55</a>\u001b[0m train(network, train_dl, test_dl, device, \u001b[39m50\u001b[39;49m, lr\u001b[39m=\u001b[39;49m\u001b[39m0.001\u001b[39;49m)\n",
      "\u001b[1;32mc:\\Users\\jiawe\\Desktop\\Workspace\\Grad_thesis\\zollner-illusion\\trainers\\trainer_test.ipynb Cell 3\u001b[0m in \u001b[0;36mtrain\u001b[1;34m(network, train_dl, test_dl, device, epochs, lr)\u001b[0m\n\u001b[0;32m     <a href='vscode-notebook-cell:/c%3A/Users/jiawe/Desktop/Workspace/Grad_thesis/zollner-illusion/trainers/trainer_test.ipynb#W2sZmlsZQ%3D%3D?line=43'>44</a>\u001b[0m \u001b[39mfor\u001b[39;00m epoch \u001b[39min\u001b[39;00m \u001b[39mrange\u001b[39m(\u001b[39m50\u001b[39m):\n\u001b[0;32m     <a href='vscode-notebook-cell:/c%3A/Users/jiawe/Desktop/Workspace/Grad_thesis/zollner-illusion/trainers/trainer_test.ipynb#W2sZmlsZQ%3D%3D?line=44'>45</a>\u001b[0m     \u001b[39mprint\u001b[39m(\u001b[39m'\u001b[39m\u001b[39mEpoch \u001b[39m\u001b[39m{}\u001b[39;00m\u001b[39m/\u001b[39m\u001b[39m{}\u001b[39;00m\u001b[39m'\u001b[39m\u001b[39m.\u001b[39mformat(epoch\u001b[39m+\u001b[39m\u001b[39m1\u001b[39m, epochs))\n\u001b[1;32m---> <a href='vscode-notebook-cell:/c%3A/Users/jiawe/Desktop/Workspace/Grad_thesis/zollner-illusion/trainers/trainer_test.ipynb#W2sZmlsZQ%3D%3D?line=45'>46</a>\u001b[0m     train_loss \u001b[39m=\u001b[39m train_one_epoch(network, train_dl, criterion, optimizer, scaler, device)\n\u001b[0;32m     <a href='vscode-notebook-cell:/c%3A/Users/jiawe/Desktop/Workspace/Grad_thesis/zollner-illusion/trainers/trainer_test.ipynb#W2sZmlsZQ%3D%3D?line=47'>48</a>\u001b[0m     Train_loss\u001b[39m.\u001b[39mappend(train_loss)\n\u001b[0;32m     <a href='vscode-notebook-cell:/c%3A/Users/jiawe/Desktop/Workspace/Grad_thesis/zollner-illusion/trainers/trainer_test.ipynb#W2sZmlsZQ%3D%3D?line=48'>49</a>\u001b[0m     \u001b[39mwith\u001b[39;00m torch\u001b[39m.\u001b[39mno_grad():\n",
      "\u001b[1;32mc:\\Users\\jiawe\\Desktop\\Workspace\\Grad_thesis\\zollner-illusion\\trainers\\trainer_test.ipynb Cell 3\u001b[0m in \u001b[0;36mtrain_one_epoch\u001b[1;34m(network, train_dl, criterion, optimizer, scaler, device)\u001b[0m\n\u001b[0;32m      <a href='vscode-notebook-cell:/c%3A/Users/jiawe/Desktop/Workspace/Grad_thesis/zollner-illusion/trainers/trainer_test.ipynb#W2sZmlsZQ%3D%3D?line=1'>2</a>\u001b[0m network\u001b[39m.\u001b[39mtrain()\n\u001b[0;32m      <a href='vscode-notebook-cell:/c%3A/Users/jiawe/Desktop/Workspace/Grad_thesis/zollner-illusion/trainers/trainer_test.ipynb#W2sZmlsZQ%3D%3D?line=2'>3</a>\u001b[0m train_loss \u001b[39m=\u001b[39m \u001b[39m0.0\u001b[39m\n\u001b[1;32m----> <a href='vscode-notebook-cell:/c%3A/Users/jiawe/Desktop/Workspace/Grad_thesis/zollner-illusion/trainers/trainer_test.ipynb#W2sZmlsZQ%3D%3D?line=3'>4</a>\u001b[0m \u001b[39mfor\u001b[39;00m images, labels \u001b[39min\u001b[39;00m tqdm(train_dl):\n\u001b[0;32m      <a href='vscode-notebook-cell:/c%3A/Users/jiawe/Desktop/Workspace/Grad_thesis/zollner-illusion/trainers/trainer_test.ipynb#W2sZmlsZQ%3D%3D?line=4'>5</a>\u001b[0m     images \u001b[39m=\u001b[39m images\u001b[39m.\u001b[39mto(device)\n\u001b[0;32m      <a href='vscode-notebook-cell:/c%3A/Users/jiawe/Desktop/Workspace/Grad_thesis/zollner-illusion/trainers/trainer_test.ipynb#W2sZmlsZQ%3D%3D?line=5'>6</a>\u001b[0m     labels \u001b[39m=\u001b[39m labels\u001b[39m.\u001b[39mto(device)\n",
      "File \u001b[1;32mc:\\Users\\jiawe\\miniconda3\\lib\\site-packages\\tqdm\\std.py:1195\u001b[0m, in \u001b[0;36mtqdm.__iter__\u001b[1;34m(self)\u001b[0m\n\u001b[0;32m   1192\u001b[0m time \u001b[39m=\u001b[39m \u001b[39mself\u001b[39m\u001b[39m.\u001b[39m_time\n\u001b[0;32m   1194\u001b[0m \u001b[39mtry\u001b[39;00m:\n\u001b[1;32m-> 1195\u001b[0m     \u001b[39mfor\u001b[39;00m obj \u001b[39min\u001b[39;00m iterable:\n\u001b[0;32m   1196\u001b[0m         \u001b[39myield\u001b[39;00m obj\n\u001b[0;32m   1197\u001b[0m         \u001b[39m# Update and possibly print the progressbar.\u001b[39;00m\n\u001b[0;32m   1198\u001b[0m         \u001b[39m# Note: does not call self.update(1) for speed optimisation.\u001b[39;00m\n",
      "File \u001b[1;32mc:\\Users\\jiawe\\miniconda3\\lib\\site-packages\\torch\\utils\\data\\dataloader.py:441\u001b[0m, in \u001b[0;36mDataLoader.__iter__\u001b[1;34m(self)\u001b[0m\n\u001b[0;32m    439\u001b[0m     \u001b[39mreturn\u001b[39;00m \u001b[39mself\u001b[39m\u001b[39m.\u001b[39m_iterator\n\u001b[0;32m    440\u001b[0m \u001b[39melse\u001b[39;00m:\n\u001b[1;32m--> 441\u001b[0m     \u001b[39mreturn\u001b[39;00m \u001b[39mself\u001b[39;49m\u001b[39m.\u001b[39;49m_get_iterator()\n",
      "File \u001b[1;32mc:\\Users\\jiawe\\miniconda3\\lib\\site-packages\\torch\\utils\\data\\dataloader.py:388\u001b[0m, in \u001b[0;36mDataLoader._get_iterator\u001b[1;34m(self)\u001b[0m\n\u001b[0;32m    386\u001b[0m \u001b[39melse\u001b[39;00m:\n\u001b[0;32m    387\u001b[0m     \u001b[39mself\u001b[39m\u001b[39m.\u001b[39mcheck_worker_number_rationality()\n\u001b[1;32m--> 388\u001b[0m     \u001b[39mreturn\u001b[39;00m _MultiProcessingDataLoaderIter(\u001b[39mself\u001b[39;49m)\n",
      "File \u001b[1;32mc:\\Users\\jiawe\\miniconda3\\lib\\site-packages\\torch\\utils\\data\\dataloader.py:1042\u001b[0m, in \u001b[0;36m_MultiProcessingDataLoaderIter.__init__\u001b[1;34m(self, loader)\u001b[0m\n\u001b[0;32m   1035\u001b[0m w\u001b[39m.\u001b[39mdaemon \u001b[39m=\u001b[39m \u001b[39mTrue\u001b[39;00m\n\u001b[0;32m   1036\u001b[0m \u001b[39m# NB: Process.start() actually take some time as it needs to\u001b[39;00m\n\u001b[0;32m   1037\u001b[0m \u001b[39m#     start a process and pass the arguments over via a pipe.\u001b[39;00m\n\u001b[0;32m   1038\u001b[0m \u001b[39m#     Therefore, we only add a worker to self._workers list after\u001b[39;00m\n\u001b[0;32m   1039\u001b[0m \u001b[39m#     it started, so that we do not call .join() if program dies\u001b[39;00m\n\u001b[0;32m   1040\u001b[0m \u001b[39m#     before it starts, and __del__ tries to join but will get:\u001b[39;00m\n\u001b[0;32m   1041\u001b[0m \u001b[39m#     AssertionError: can only join a started process.\u001b[39;00m\n\u001b[1;32m-> 1042\u001b[0m w\u001b[39m.\u001b[39;49mstart()\n\u001b[0;32m   1043\u001b[0m \u001b[39mself\u001b[39m\u001b[39m.\u001b[39m_index_queues\u001b[39m.\u001b[39mappend(index_queue)\n\u001b[0;32m   1044\u001b[0m \u001b[39mself\u001b[39m\u001b[39m.\u001b[39m_workers\u001b[39m.\u001b[39mappend(w)\n",
      "File \u001b[1;32mc:\\Users\\jiawe\\miniconda3\\lib\\multiprocessing\\process.py:121\u001b[0m, in \u001b[0;36mBaseProcess.start\u001b[1;34m(self)\u001b[0m\n\u001b[0;32m    118\u001b[0m \u001b[39massert\u001b[39;00m \u001b[39mnot\u001b[39;00m _current_process\u001b[39m.\u001b[39m_config\u001b[39m.\u001b[39mget(\u001b[39m'\u001b[39m\u001b[39mdaemon\u001b[39m\u001b[39m'\u001b[39m), \\\n\u001b[0;32m    119\u001b[0m        \u001b[39m'\u001b[39m\u001b[39mdaemonic processes are not allowed to have children\u001b[39m\u001b[39m'\u001b[39m\n\u001b[0;32m    120\u001b[0m _cleanup()\n\u001b[1;32m--> 121\u001b[0m \u001b[39mself\u001b[39m\u001b[39m.\u001b[39m_popen \u001b[39m=\u001b[39m \u001b[39mself\u001b[39;49m\u001b[39m.\u001b[39;49m_Popen(\u001b[39mself\u001b[39;49m)\n\u001b[0;32m    122\u001b[0m \u001b[39mself\u001b[39m\u001b[39m.\u001b[39m_sentinel \u001b[39m=\u001b[39m \u001b[39mself\u001b[39m\u001b[39m.\u001b[39m_popen\u001b[39m.\u001b[39msentinel\n\u001b[0;32m    123\u001b[0m \u001b[39m# Avoid a refcycle if the target function holds an indirect\u001b[39;00m\n\u001b[0;32m    124\u001b[0m \u001b[39m# reference to the process object (see bpo-30775)\u001b[39;00m\n",
      "File \u001b[1;32mc:\\Users\\jiawe\\miniconda3\\lib\\multiprocessing\\context.py:224\u001b[0m, in \u001b[0;36mProcess._Popen\u001b[1;34m(process_obj)\u001b[0m\n\u001b[0;32m    222\u001b[0m \u001b[39m@staticmethod\u001b[39m\n\u001b[0;32m    223\u001b[0m \u001b[39mdef\u001b[39;00m \u001b[39m_Popen\u001b[39m(process_obj):\n\u001b[1;32m--> 224\u001b[0m     \u001b[39mreturn\u001b[39;00m _default_context\u001b[39m.\u001b[39;49mget_context()\u001b[39m.\u001b[39;49mProcess\u001b[39m.\u001b[39;49m_Popen(process_obj)\n",
      "File \u001b[1;32mc:\\Users\\jiawe\\miniconda3\\lib\\multiprocessing\\context.py:327\u001b[0m, in \u001b[0;36mSpawnProcess._Popen\u001b[1;34m(process_obj)\u001b[0m\n\u001b[0;32m    324\u001b[0m \u001b[39m@staticmethod\u001b[39m\n\u001b[0;32m    325\u001b[0m \u001b[39mdef\u001b[39;00m \u001b[39m_Popen\u001b[39m(process_obj):\n\u001b[0;32m    326\u001b[0m     \u001b[39mfrom\u001b[39;00m \u001b[39m.\u001b[39;00m\u001b[39mpopen_spawn_win32\u001b[39;00m \u001b[39mimport\u001b[39;00m Popen\n\u001b[1;32m--> 327\u001b[0m     \u001b[39mreturn\u001b[39;00m Popen(process_obj)\n",
      "File \u001b[1;32mc:\\Users\\jiawe\\miniconda3\\lib\\multiprocessing\\popen_spawn_win32.py:93\u001b[0m, in \u001b[0;36mPopen.__init__\u001b[1;34m(self, process_obj)\u001b[0m\n\u001b[0;32m     91\u001b[0m \u001b[39mtry\u001b[39;00m:\n\u001b[0;32m     92\u001b[0m     reduction\u001b[39m.\u001b[39mdump(prep_data, to_child)\n\u001b[1;32m---> 93\u001b[0m     reduction\u001b[39m.\u001b[39;49mdump(process_obj, to_child)\n\u001b[0;32m     94\u001b[0m \u001b[39mfinally\u001b[39;00m:\n\u001b[0;32m     95\u001b[0m     set_spawning_popen(\u001b[39mNone\u001b[39;00m)\n",
      "File \u001b[1;32mc:\\Users\\jiawe\\miniconda3\\lib\\multiprocessing\\reduction.py:60\u001b[0m, in \u001b[0;36mdump\u001b[1;34m(obj, file, protocol)\u001b[0m\n\u001b[0;32m     58\u001b[0m \u001b[39mdef\u001b[39;00m \u001b[39mdump\u001b[39m(obj, file, protocol\u001b[39m=\u001b[39m\u001b[39mNone\u001b[39;00m):\n\u001b[0;32m     59\u001b[0m     \u001b[39m'''Replacement for pickle.dump() using ForkingPickler.'''\u001b[39;00m\n\u001b[1;32m---> 60\u001b[0m     ForkingPickler(file, protocol)\u001b[39m.\u001b[39;49mdump(obj)\n",
      "\u001b[1;31mKeyboardInterrupt\u001b[0m: "
     ]
    }
   ],
   "source": [
    "def train_one_epoch(network, train_dl, criterion, optimizer, scaler, device):\n",
    "    network.train()\n",
    "    train_loss = 0.0\n",
    "    for images, labels in tqdm(train_dl):\n",
    "        images = images.to(device)\n",
    "        labels = labels.to(device)\n",
    "        optimizer.zero_grad()\n",
    "        with torch.cuda.amp.autocast(enabled=True):\n",
    "            output = network(images)\n",
    "            loss = criterion(output, labels)\n",
    "        scaler.scale(loss).backward()\n",
    "        scaler.step(optimizer)\n",
    "        scaler.update()\n",
    "        train_loss += loss\n",
    "        del output\n",
    "        del loss\n",
    "    # Decay LR by a factor of 0.1 every 2 epochs\n",
    "    # exp_lr_scheduler.step()\n",
    "    network.save()\n",
    "    return train_loss/len(train_dl)\n",
    "\n",
    "def test(network, val_dl, criterion, device):\n",
    "    network.eval()\n",
    "    val_loss = 0.0\n",
    "    for images, labels in tqdm(val_dl):\n",
    "        images = images.to(device)\n",
    "        labels = labels.to(device)\n",
    "        output = network(images)\n",
    "        loss = criterion(output, labels)\n",
    "        val_loss += loss\n",
    "        del output\n",
    "        del loss\n",
    "    return val_loss/len(val_dl)\n",
    "\n",
    "Train_loss = []\n",
    "Test_loss = []\n",
    "\n",
    "def train(network, train_dl, test_dl, device, epochs, lr=0.001):\n",
    "    network.to(device)\n",
    "    network.train()\n",
    "    criterion = nn.MSELoss(reduction='sum')\n",
    "    optimizer = torch.optim.Adam(network.parameters(), lr)\n",
    "    scaler = torch.cuda.amp.GradScaler()\n",
    "    for epoch in range(50):\n",
    "        print('Epoch {}/{}'.format(epoch+1, epochs))\n",
    "        train_loss = train_one_epoch(network, train_dl, criterion, optimizer, scaler, device)\n",
    "\n",
    "        Train_loss.append(train_loss)\n",
    "        with torch.no_grad():\n",
    "            test_loss = test(network, test_dl, criterion, device)\n",
    "        Test_loss.append(test_loss)\n",
    "        print('Train Loss: {:.4f}; Test Loss: {:.4f}'.format(train_loss, test_loss))\n",
    "        network.save()\n",
    "\n",
    "train(network, train_dl, test_dl, device, 50, lr=0.001)"
   ]
  }
 ],
 "metadata": {
  "kernelspec": {
   "display_name": "base",
   "language": "python",
   "name": "python3"
  },
  "language_info": {
   "codemirror_mode": {
    "name": "ipython",
    "version": 3
   },
   "file_extension": ".py",
   "mimetype": "text/x-python",
   "name": "python",
   "nbconvert_exporter": "python",
   "pygments_lexer": "ipython3",
   "version": "3.9.12"
  },
  "orig_nbformat": 4,
  "vscode": {
   "interpreter": {
    "hash": "a30ec970e4e935acce5f7a2ee0f20876d47ab42197f0e14e5f3fcb422ba876c4"
   }
  }
 },
 "nbformat": 4,
 "nbformat_minor": 2
}
