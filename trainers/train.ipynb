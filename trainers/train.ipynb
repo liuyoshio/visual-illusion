{
 "cells": [
  {
   "cell_type": "code",
   "execution_count": 2,
   "metadata": {},
   "outputs": [
    {
     "name": "stdout",
     "output_type": "stream",
     "text": [
      "Using device: mps\n"
     ]
    }
   ],
   "source": [
    "import os\n",
    "import sys\n",
    "sys.path.append('../')\n",
    "\n",
    "from helpers import helper\n",
    "from dataloaders import dataloader\n",
    "from networks import Unet\n",
    "import config\n",
    "\n",
    "import cv2\n",
    "import torch\n",
    "import torch.nn as nn\n",
    "import matplotlib.pyplot as plt\n",
    "from tqdm import tqdm\n",
    "\n",
    "device = config.get_device()\n",
    "trainset, train_dl = dataloader.getData('../../datasets/train.csv', batch_size=4, transform=config.transform, num_workers=config.num_workers)\n",
    "testset, test_dl = dataloader.getData('../../datasets/test.csv', batch_size=4, transform=config.transform, num_workers=config.num_workers)"
   ]
  },
  {
   "cell_type": "code",
   "execution_count": 3,
   "metadata": {},
   "outputs": [
    {
     "name": "stdout",
     "output_type": "stream",
     "text": [
      "Load model from ../models/unet_default.pth\n",
      "Model saved to ../models/unet_default.pth\n",
      "Input shape: torch.Size([4, 3, 256, 256])\n",
      "Output shape torch.Size([4, 2, 256, 256])\n",
      "loss: 531.802490234375\n"
     ]
    },
    {
     "data": {
      "image/png": "[encoded data removed]",
      "text/plain": [
       "<Figure size 432x288 with 1 Axes>"
      ]
     },
     "metadata": {
      "needs_background": "light"
     },
     "output_type": "display_data"
    }
   ],
   "source": [
    "network = Unet.get_model()\n",
    "network.save()\n",
    "\n",
    "def test(decoder, dataloader):\n",
    "    decoder.to(device)\n",
    "    for images, labels in dataloader:\n",
    "        images = images.to(device)\n",
    "        labels = labels.to(device)\n",
    "        print(\"Input shape:\", images.shape)\n",
    "        outputs = decoder(images)\n",
    "\n",
    "        helper.plot_tensor_output(outputs[0])\n",
    "        print(\"Output shape\", outputs.shape)\n",
    "        break\n",
    "\n",
    "    loss = nn.MSELoss(reduction='sum')(outputs, labels)\n",
    "    loss.backward()\n",
    "    print(f'loss: {loss.item()}')\n",
    "    \n",
    "test(network, train_dl)"
   ]
  },
  {
   "cell_type": "code",
   "execution_count": 4,
   "metadata": {},
   "outputs": [
    {
     "name": "stderr",
     "output_type": "stream",
     "text": [
      "/Users/terry/miniconda3/envs/torch-nightly/lib/python3.8/site-packages/torch/cuda/amp/grad_scaler.py:120: UserWarning: torch.cuda.amp.GradScaler is enabled, but CUDA is not available.  Disabling.\n",
      "  warnings.warn(\"torch.cuda.amp.GradScaler is enabled, but CUDA is not available.  Disabling.\")\n"
     ]
    },
    {
     "name": "stdout",
     "output_type": "stream",
     "text": [
      "Epoch 1/50\n"
     ]
    },
    {
     "name": "stderr",
     "output_type": "stream",
     "text": [
      "  0%|          | 0/2500 [00:00<?, ?it/s]/Users/terry/miniconda3/envs/torch-nightly/lib/python3.8/site-packages/torch/amp/autocast_mode.py:204: UserWarning: User provided device_type of 'cuda', but CUDA is not available. Disabling\n",
      "  warnings.warn('User provided device_type of \\'cuda\\', but CUDA is not available. Disabling')\n",
      "  2%|▏         | 49/2500 [00:17<08:04,  5.06it/s] "
     ]
    }
   ],
   "source": [
    "def train_one_epoch(network, train_dl, criterion, optimizer, scaler, device):\n",
    "    network.train()\n",
    "    train_loss = 0.0\n",
    "    for images, labels in tqdm(train_dl):\n",
    "        images = images.to(device)\n",
    "        labels = labels.to(device)\n",
    "        optimizer.zero_grad()\n",
    "        with torch.cuda.amp.autocast(enabled=True):\n",
    "            output = network(images)\n",
    "            loss = criterion(output, labels)\n",
    "        scaler.scale(loss).backward()\n",
    "        scaler.step(optimizer)\n",
    "        scaler.update()\n",
    "        train_loss += loss\n",
    "        del output\n",
    "        del loss\n",
    "    # Decay LR by a factor of 0.1 every 2 epochs\n",
    "    # exp_lr_scheduler.step()\n",
    "    network.save()\n",
    "    return train_loss/len(train_dl)\n",
    "\n",
    "def test(network, val_dl, criterion, device):\n",
    "    network.eval()\n",
    "    val_loss = 0.0\n",
    "    for images, labels in tqdm(val_dl):\n",
    "        images = images.to(device)\n",
    "        labels = labels.to(device)\n",
    "        output = network(images)\n",
    "        loss = criterion(output, labels)\n",
    "        val_loss += loss\n",
    "        del output\n",
    "        del loss\n",
    "    return val_loss/len(val_dl)\n",
    "\n",
    "Train_loss = []\n",
    "Test_loss = []\n",
    "\n",
    "def train(network, train_dl, test_dl, device, epochs, lr=0.001):\n",
    "    network.to(device)\n",
    "    network.train()\n",
    "    criterion = nn.MSELoss(reduction='sum')\n",
    "    optimizer = torch.optim.Adam(network.parameters(), lr)\n",
    "    scaler = torch.cuda.amp.GradScaler()\n",
    "    for epoch in range(50):\n",
    "        print('Epoch {}/{}'.format(epoch+1, epochs))\n",
    "        train_loss = train_one_epoch(network, train_dl, criterion, optimizer, scaler, device)\n",
    "\n",
    "        Train_loss.append(train_loss)\n",
    "        with torch.no_grad():\n",
    "            test_loss = test(network, test_dl, criterion, device)\n",
    "        Test_loss.append(test_loss)\n",
    "        print('Train Loss: {:.4f}; Test Loss: {:.4f}'.format(train_loss, test_loss))\n",
    "        network.save()\n",
    "\n",
    "train(network, train_dl, test_dl, device, 50, lr=0.001)"
   ]
  }
 ],
 "metadata": {
  "kernelspec": {
   "display_name": "base",
   "language": "python",
   "name": "python3"
  },
  "language_info": {
   "codemirror_mode": {
    "name": "ipython",
    "version": 3
   },
   "file_extension": ".py",
   "mimetype": "text/x-python",
   "name": "python",
   "nbconvert_exporter": "python",
   "pygments_lexer": "ipython3",
   "version": "3.8.13"
  },
  "orig_nbformat": 4,
  "vscode": {
   "interpreter": {
    "hash": "a30ec970e4e935acce5f7a2ee0f20876d47ab42197f0e14e5f3fcb422ba876c4"
   }
  }
 },
 "nbformat": 4,
 "nbformat_minor": 2
}
