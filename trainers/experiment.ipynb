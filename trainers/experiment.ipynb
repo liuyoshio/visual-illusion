{
 "cells": [
  {
   "cell_type": "code",
   "execution_count": 32,
   "metadata": {},
   "outputs": [
    {
     "name": "stdout",
     "output_type": "stream",
     "text": [
      "Using device: cuda\n",
      "Load model from ../models/unet_64.pth\n"
     ]
    }
   ],
   "source": [
    "import os\n",
    "import sys\n",
    "sys.path.append('../')\n",
    "\n",
    "from helpers import helper\n",
    "from networks import Unet\n",
    "from networks import VGG_conv3x3\n",
    "import config\n",
    "\n",
    "import cv2\n",
    "from tqdm import tqdm\n",
    "import numpy as np\n",
    "import matplotlib.pyplot as plt\n",
    "\n",
    "device = config.get_device()\n",
    "\n",
    "networks = {\n",
    "    \"Unet\": Unet,\n",
    "    \"VGG\" : VGG_conv3x3,\n",
    "}\n",
    "\n",
    "network = networks[\"VGG\"].get_model(model_path='../models/VGG.pth')\n",
    "network_dir = network.get_network_dir()\n",
    "interval = 30"
   ]
  },
  {
   "cell_type": "code",
   "execution_count": 33,
   "metadata": {},
   "outputs": [
    {
     "name": "stderr",
     "output_type": "stream",
     "text": [
      "100%|██████████| 160/160 [01:40<00:00,  1.59it/s]\n"
     ]
    }
   ],
   "source": [
    "# takes in a single image and outputs the predicted label\n",
    "def experiment(network, device, image_path, output_path=\"\"):\n",
    "    network.eval()\n",
    "    network.to(device)\n",
    "    image = cv2.imread(image_path)\n",
    "    image = cv2.cvtColor(image, cv2.COLOR_BGR2RGB)\n",
    "    image = config.transform(image).unsqueeze(0)\n",
    "    output = network(image.to(device))\n",
    "    if output_path != \"\":\n",
    "        helper.save_tensor_output(output[0], output_path)\n",
    "    \n",
    "    return output[0]\n",
    "\n",
    "# create the output directory if it doesn't exist\n",
    "if not os.path.exists(f'../../datasets/experiment/outputs/{network_dir}'):\n",
    "    os.makedirs(f'../../datasets/experiment/outputs/{network_dir}')\n",
    "\n",
    "for slash_degree in tqdm(np.arange(0, 80.0, 0.5)):\n",
    "    for thickness in range(1, 5):\n",
    "        image_path = f'../../datasets/experiment/images/image_{slash_degree}_{thickness}_{interval}.png'\n",
    "        output_path = f'../../datasets/experiment/outputs/{network_dir}/image_{slash_degree}_{thickness}_{interval}.png'\n",
    "        # get the network and its output directory\n",
    "        output = experiment(network, device, image_path=image_path, output_path=output_path)\n"
   ]
  },
  {
   "cell_type": "code",
   "execution_count": 34,
   "metadata": {},
   "outputs": [
    {
     "data": {
      "text/plain": [
       "(88.07995365005793, 89.94288681204569)"
      ]
     },
     "execution_count": 34,
     "metadata": {},
     "output_type": "execute_result"
    }
   ],
   "source": [
    "def draw_mask_slash(mask, center, length, degree, thickness, color):\n",
    "    # Draw line on image\n",
    "    angular = helper.convertDegreeToRadian(degree)\n",
    "    x1 = int(center[0] + length * np.cos(angular))\n",
    "    y1 = int(center[1] + length * np.sin(angular))\n",
    "    x2 = int(center[0] - length * np.cos(angular))\n",
    "    y2 = int(center[1] - length * np.sin(angular))\n",
    "\n",
    "    mask = cv2.line(mask, (x1, y1), (x2, y2), color, thickness)\n",
    "    return mask\n",
    "\n",
    "def get_mask(thickess, degree, interval):\n",
    "    left_mask = np.zeros((256, 256), np.uint8)\n",
    "    right_mask = np.zeros((256, 256), np.uint8)\n",
    "    \n",
    "    left_mask = draw_mask_slash(left_mask, (config.LEFT_POS, 128), 100, 90, thickess, 1)\n",
    "    right_mask = draw_mask_slash(right_mask, (config.RIGHT_POS, 128), 110, 90, thickess, 1)\n",
    "\n",
    "    for i in range(50, 225, interval):\n",
    "        draw_mask_slash(left_mask, (config.LEFT_POS, i), 20, degree, 4, 0)\n",
    "        draw_mask_slash(right_mask, (config.RIGHT_POS, i), 20, 180-degree, 4, 0)\n",
    "\n",
    "    return left_mask, right_mask\n",
    "\n",
    "def get_orientation(output_HSV, left_mask, right_mask):\n",
    "    hue = output_HSV[:, :, 0]\n",
    "    left_angle = np.mean(hue[left_mask == 1])\n",
    "    right_angle = np.mean(hue[right_mask == 1])\n",
    "    return left_angle, right_angle\n",
    "\n",
    "slash_degree = 10.0\n",
    "thickness = 3\n",
    "\n",
    "output = cv2.imread(f\"../../datasets/experiment/outputs/{network_dir}/image_{slash_degree}_{thickness}_{interval}.png\")\n",
    "output_HSV = cv2.cvtColor(output, cv2.COLOR_BGR2HSV)\n",
    "left_mask, right_mask = get_mask(thickness, slash_degree, 30)\n",
    "\n",
    "get_orientation(output_HSV, left_mask, right_mask)\n"
   ]
  },
  {
   "cell_type": "code",
   "execution_count": 35,
   "metadata": {},
   "outputs": [
    {
     "name": "stderr",
     "output_type": "stream",
     "text": [
      "100%|██████████| 80/80 [00:00<00:00, 100.55it/s]\n"
     ]
    }
   ],
   "source": [
    "predictions = {\n",
    "    \"left\": [[] for _ in range(4)],\n",
    "    \"right\": [[] for _ in range(4)],\n",
    "    \"slash\" : []\n",
    "}\n",
    "\n",
    "# read angle from output\n",
    "for slash_degree in tqdm(np.arange(0, 80, 1.0)):\n",
    "    predictions[\"slash\"].append(slash_degree)\n",
    "    for thickness in range(1, 5):\n",
    "        output = cv2.imread(f\"../../datasets/experiment/outputs/{network_dir}/image_{slash_degree}_{thickness}_{interval}.png\")\n",
    "        output_HSV = cv2.cvtColor(output, cv2.COLOR_BGR2HSV)\n",
    "        left_mask, right_mask = get_mask(thickness, slash_degree, 30)\n",
    "        left_angle, right_angle = get_orientation(output_HSV, left_mask, right_mask)\n",
    "        predictions[\"left\"][thickness-1].append(left_angle)\n",
    "        predictions[\"right\"][thickness-1].append(right_angle)\n"
   ]
  },
  {
   "cell_type": "code",
   "execution_count": 36,
   "metadata": {},
   "outputs": [],
   "source": [
    "# plt.plot(predictions[\"slash\"], predictions[\"left\"][0])\n",
    "# save predictions into a new csv file named network_dir\n",
    "import csv\n",
    "with open(f'../../datasets/experiment/outputs/{network_dir}.csv', 'w', newline='') as csvfile:\n",
    "    writer = csv.writer(csvfile)\n",
    "    writer.writerow([\"slash\", \"left_1\", \"left_2\", \"left_3\", \"left_4\", \"right_1\", \"right_2\", \"right_3\", \"right_4\"])\n",
    "    for i in range(len(predictions[\"slash\"])):\n",
    "        writer.writerow([predictions[\"slash\"][i], predictions[\"left\"][0][i], predictions[\"left\"][1][i], predictions[\"left\"][2][i], predictions[\"left\"][3][i], predictions[\"right\"][0][i], predictions[\"right\"][1][i], predictions[\"right\"][2][i], predictions[\"right\"][3][i]])\n"
   ]
  }
 ],
 "metadata": {
  "kernelspec": {
   "display_name": "base",
   "language": "python",
   "name": "python3"
  },
  "language_info": {
   "codemirror_mode": {
    "name": "ipython",
    "version": 3
   },
   "file_extension": ".py",
   "mimetype": "text/x-python",
   "name": "python",
   "nbconvert_exporter": "python",
   "pygments_lexer": "ipython3",
   "version": "3.9.12"
  },
  "orig_nbformat": 4
 },
 "nbformat": 4,
 "nbformat_minor": 2
}
