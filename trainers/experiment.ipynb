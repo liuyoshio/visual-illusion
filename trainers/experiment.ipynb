{
 "cells": [
  {
   "cell_type": "code",
   "execution_count": 74,
   "metadata": {},
   "outputs": [
    {
     "name": "stdout",
     "output_type": "stream",
     "text": [
      "Using device: cuda\n",
      "Load model from ../models/unet_default.pth\n"
     ]
    }
   ],
   "source": [
    "import os\n",
    "import sys\n",
    "sys.path.append('../')\n",
    "\n",
    "from helpers import helper\n",
    "from networks import Unet\n",
    "import config\n",
    "\n",
    "import cv2\n",
    "from tqdm import tqdm\n",
    "import numpy as np\n",
    "import matplotlib.pyplot as plt\n",
    "\n",
    "device = config.get_device()\n",
    "\n",
    "networks = {\n",
    "    \"Unet\": Unet,\n",
    "}\n",
    "\n",
    "network = networks[\"Unet\"].get_model()\n",
    "network_dir = network.get_network_dir()\n",
    "interval = 30"
   ]
  },
  {
   "cell_type": "code",
   "execution_count": 75,
   "metadata": {},
   "outputs": [
    {
     "name": "stderr",
     "output_type": "stream",
     "text": [
      "100%|██████████| 160/160 [01:36<00:00,  1.67it/s]\n"
     ]
    }
   ],
   "source": [
    "# takes in a single image and outputs the predicted label\n",
    "def experiment(network, device, image_path, output_path=\"\"):\n",
    "    network.eval()\n",
    "    network.to(device)\n",
    "    image = cv2.imread(image_path)\n",
    "    image = cv2.cvtColor(image, cv2.COLOR_BGR2RGB)\n",
    "    image = config.transform(image).unsqueeze(0)\n",
    "    output = network(image.to(device))\n",
    "    if output_path != \"\":\n",
    "        helper.save_tensor_output(output[0], output_path)\n",
    "    \n",
    "    return output[0]\n",
    "\n",
    "# create the output directory if it doesn't exist\n",
    "if not os.path.exists(f'../../datasets/experiment/outputs/{network_dir}'):\n",
    "    os.makedirs(f'../../datasets/experiment/outputs/{network_dir}')\n",
    "\n",
    "for slash_degree in tqdm(np.arange(0, 80.0, 0.5)):\n",
    "    for thickness in range(1, 5):\n",
    "        image_path = f'../../datasets/experiment/images/image_{slash_degree}_{thickness}_{interval}.png'\n",
    "        output_path = f'../../datasets/experiment/outputs/{network_dir}/image_{slash_degree}_{thickness}_{interval}.png'\n",
    "        # get the network and its output directory\n",
    "        output = experiment(network, device, image_path=image_path, output_path=output_path)\n"
   ]
  },
  {
   "cell_type": "code",
   "execution_count": 77,
   "metadata": {},
   "outputs": [
    {
     "data": {
      "text/plain": [
       "(91.10081112398609, 90.12876427829698)"
      ]
     },
     "execution_count": 77,
     "metadata": {},
     "output_type": "execute_result"
    }
   ],
   "source": [
    "def draw_mask_slash(mask, center, length, degree, thickness, color):\n",
    "    # Draw line on image\n",
    "    angular = helper.convertDegreeToRadian(degree)\n",
    "    x1 = int(center[0] + length * np.cos(angular))\n",
    "    y1 = int(center[1] + length * np.sin(angular))\n",
    "    x2 = int(center[0] - length * np.cos(angular))\n",
    "    y2 = int(center[1] - length * np.sin(angular))\n",
    "\n",
    "    mask = cv2.line(mask, (x1, y1), (x2, y2), color, thickness)\n",
    "    return mask\n",
    "\n",
    "def get_mask(thickess, degree, interval):\n",
    "    left_mask = np.zeros((256, 256), np.uint8)\n",
    "    right_mask = np.zeros((256, 256), np.uint8)\n",
    "    \n",
    "    left_mask = draw_mask_slash(left_mask, (config.LEFT_POS, 128), 100, 90, thickess, 1)\n",
    "    right_mask = draw_mask_slash(right_mask, (config.RIGHT_POS, 128), 110, 90, thickess, 1)\n",
    "\n",
    "    for i in range(50, 225, interval):\n",
    "        draw_mask_slash(left_mask, (config.LEFT_POS, i), 20, degree, 4, 0)\n",
    "        draw_mask_slash(right_mask, (config.RIGHT_POS, i), 20, 180-degree, 4, 0)\n",
    "\n",
    "    return left_mask, right_mask\n",
    "\n",
    "def get_orientation(output_HSV, left_mask, right_mask):\n",
    "    hue = output_HSV[:, :, 0]\n",
    "    left_angle = np.mean(hue[left_mask == 1])\n",
    "    right_angle = np.mean(hue[right_mask == 1])\n",
    "    return left_angle, right_angle\n",
    "\n",
    "slash_degree = 10.0\n",
    "thickness = 3\n",
    "\n",
    "output = cv2.imread(f\"../../datasets/experiment/outputs/{network_dir}/image_{slash_degree}_{thickness}_{interval}.png\")\n",
    "output_HSV = cv2.cvtColor(output, cv2.COLOR_BGR2HSV)\n",
    "left_mask, right_mask = get_mask(thickness, slash_degree, 30)\n",
    "\n",
    "get_orientation(output_HSV, left_mask, right_mask)\n"
   ]
  },
  {
   "cell_type": "code",
   "execution_count": 80,
   "metadata": {},
   "outputs": [
    {
     "name": "stderr",
     "output_type": "stream",
     "text": [
      "100%|██████████| 160/160 [00:01<00:00, 111.68it/s]\n"
     ]
    }
   ],
   "source": [
    "predictions = {\n",
    "    \"left\": [[] for _ in range(4)],\n",
    "    \"right\": [[] for _ in range(4)],\n",
    "    \"slash\" : []\n",
    "}\n",
    "\n",
    "# read angle from output\n",
    "for slash_degree in tqdm(np.arange(0, 80, 0.5)):\n",
    "    predictions[\"slash\"].append(slash_degree)\n",
    "    for thickness in range(1, 5):\n",
    "        output = cv2.imread(f\"../../datasets/experiment/outputs/{network_dir}/image_{slash_degree}_{thickness}_{interval}.png\")\n",
    "        output_HSV = cv2.cvtColor(output, cv2.COLOR_BGR2HSV)\n",
    "        left_mask, right_mask = get_mask(thickness, slash_degree, 30)\n",
    "        left_angle, right_angle = get_orientation(output_HSV, left_mask, right_mask)\n",
    "        predictions[\"left\"][thickness-1].append(left_angle)\n",
    "        predictions[\"right\"][thickness-1].append(right_angle)\n"
   ]
  },
  {
   "cell_type": "code",
   "execution_count": 91,
   "metadata": {},
   "outputs": [
    {
     "data": {
      "text/plain": [
       "[<matplotlib.lines.Line2D at 0x257936e5610>]"
      ]
     },
     "execution_count": 91,
     "metadata": {},
     "output_type": "execute_result"
    },
    {
     "data": {
      "image/png": "[encoded data removed]",
      "text/plain": [
       "<Figure size 432x288 with 1 Axes>"
      ]
     },
     "metadata": {
      "needs_background": "light"
     },
     "output_type": "display_data"
    }
   ],
   "source": [
    "plt.plot(predictions[\"slash\"], predictions[\"left\"][0])"
   ]
  }
 ],
 "metadata": {
  "kernelspec": {
   "display_name": "base",
   "language": "python",
   "name": "python3"
  },
  "language_info": {
   "codemirror_mode": {
    "name": "ipython",
    "version": 3
   },
   "file_extension": ".py",
   "mimetype": "text/x-python",
   "name": "python",
   "nbconvert_exporter": "python",
   "pygments_lexer": "ipython3",
   "version": "3.9.12"
  },
  "orig_nbformat": 4
 },
 "nbformat": 4,
 "nbformat_minor": 2
}
