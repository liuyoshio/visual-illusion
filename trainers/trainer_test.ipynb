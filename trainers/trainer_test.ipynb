{
 "cells": [
  {
   "cell_type": "code",
   "execution_count": 36,
   "metadata": {},
   "outputs": [
    {
     "name": "stdout",
     "output_type": "stream",
     "text": [
      "Using device: mps\n"
     ]
    }
   ],
   "source": [
    "import os\n",
    "import sys\n",
    "sys.path.append('../')\n",
    "\n",
    "from helpers import helper\n",
    "from dataloaders import dataloader\n",
    "from networks import Unet\n",
    "import config\n",
    "\n",
    "import cv2\n",
    "import torch\n",
    "import torch.nn as nn\n",
    "import matplotlib.pyplot as plt\n",
    "from tqdm import tqdm\n",
    "\n",
    "device = config.get_device()\n",
    "trainset, train_dl = dataloader.getData('../../datasets/train.csv', batch_size=4)\n"
   ]
  },
  {
   "cell_type": "code",
   "execution_count": 37,
   "metadata": {},
   "outputs": [
    {
     "name": "stdout",
     "output_type": "stream",
     "text": [
      "Load model from ../models/unet_default.pth\n",
      "Input shape: torch.Size([4, 3, 256, 256])\n",
      "Output shape torch.Size([4, 2, 256, 256])\n",
      "loss: 1395.218505859375\n"
     ]
    },
    {
     "data": {
      "image/png": "[encoded data removed]",
      "text/plain": [
       "<Figure size 432x288 with 1 Axes>"
      ]
     },
     "metadata": {
      "needs_background": "light"
     },
     "output_type": "display_data"
    }
   ],
   "source": [
    "network, network_dir = Unet.get_model(), \"Unet\"\n",
    "def test(decoder, train_dl):\n",
    "    decoder.to(device)\n",
    "    for images, labels in train_dl:\n",
    "        images = images.to(device)\n",
    "        labels = labels.to(device)\n",
    "        print(\"Input shape:\", images.shape)\n",
    "        outputs = decoder(images)\n",
    "\n",
    "        helper.plot_tensor_output(outputs[0])\n",
    "\n",
    "        print(\"Output shape\", outputs.shape)\n",
    "        break\n",
    "\n",
    "    loss = nn.MSELoss(reduction='sum')(outputs, labels)\n",
    "    loss.backward()\n",
    "    print(f'loss: {loss.item()}')\n",
    "    \n",
    "test(network, train_dl)"
   ]
  },
  {
   "cell_type": "code",
   "execution_count": 20,
   "metadata": {},
   "outputs": [
    {
     "name": "stderr",
     "output_type": "stream",
     "text": [
      "/Users/terry/miniconda3/envs/torch-nightly/lib/python3.8/site-packages/torch/cuda/amp/grad_scaler.py:120: UserWarning: torch.cuda.amp.GradScaler is enabled, but CUDA is not available.  Disabling.\n",
      "  warnings.warn(\"torch.cuda.amp.GradScaler is enabled, but CUDA is not available.  Disabling.\")\n"
     ]
    },
    {
     "name": "stdout",
     "output_type": "stream",
     "text": [
      "Epoch 1/50\n"
     ]
    },
    {
     "name": "stderr",
     "output_type": "stream",
     "text": [
      "  0%|          | 0/2500 [00:00<?, ?it/s]/Users/terry/miniconda3/envs/torch-nightly/lib/python3.8/site-packages/torch/amp/autocast_mode.py:204: UserWarning: User provided device_type of 'cuda', but CUDA is not available. Disabling\n",
      "  warnings.warn('User provided device_type of \\'cuda\\', but CUDA is not available. Disabling')\n",
      "100%|██████████| 2500/2500 [40:43<00:00,  1.02it/s]     \n"
     ]
    },
    {
     "name": "stdout",
     "output_type": "stream",
     "text": [
      "Train Loss: 1427.5366\n",
      "Epoch 2/50\n"
     ]
    },
    {
     "name": "stderr",
     "output_type": "stream",
     "text": [
      "  2%|▏         | 52/2500 [00:27<21:30,  1.90it/s]\n"
     ]
    },
    {
     "ename": "KeyboardInterrupt",
     "evalue": "",
     "output_type": "error",
     "traceback": [
      "\u001b[0;31m---------------------------------------------------------------------------\u001b[0m",
      "\u001b[0;31mKeyboardInterrupt\u001b[0m                         Traceback (most recent call last)",
      "\u001b[1;32m/Users/terry/Desktop/Grad_thesis/zollner_illusion/trainers/trainer_test.ipynb Cell 3\u001b[0m in \u001b[0;36m<cell line: 37>\u001b[0;34m()\u001b[0m\n\u001b[1;32m     <a href='vscode-notebook-cell:/Users/terry/Desktop/Grad_thesis/zollner_illusion/trainers/trainer_test.ipynb#W3sZmlsZQ%3D%3D?line=33'>34</a>\u001b[0m         \u001b[39mprint\u001b[39m(\u001b[39m'\u001b[39m\u001b[39mTrain Loss: \u001b[39m\u001b[39m{:.4f}\u001b[39;00m\u001b[39m'\u001b[39m\u001b[39m.\u001b[39mformat(train_loss))\n\u001b[1;32m     <a href='vscode-notebook-cell:/Users/terry/Desktop/Grad_thesis/zollner_illusion/trainers/trainer_test.ipynb#W3sZmlsZQ%3D%3D?line=34'>35</a>\u001b[0m         network\u001b[39m.\u001b[39msave()\n\u001b[0;32m---> <a href='vscode-notebook-cell:/Users/terry/Desktop/Grad_thesis/zollner_illusion/trainers/trainer_test.ipynb#W3sZmlsZQ%3D%3D?line=36'>37</a>\u001b[0m train_loss \u001b[39m=\u001b[39m train(network, train_dl, device, \u001b[39m50\u001b[39;49m, lr\u001b[39m=\u001b[39;49m\u001b[39m0.001\u001b[39;49m)\n",
      "\u001b[1;32m/Users/terry/Desktop/Grad_thesis/zollner_illusion/trainers/trainer_test.ipynb Cell 3\u001b[0m in \u001b[0;36mtrain\u001b[0;34m(network, train_dl, device, epochs, lr)\u001b[0m\n\u001b[1;32m     <a href='vscode-notebook-cell:/Users/terry/Desktop/Grad_thesis/zollner_illusion/trainers/trainer_test.ipynb#W3sZmlsZQ%3D%3D?line=30'>31</a>\u001b[0m \u001b[39mfor\u001b[39;00m epoch \u001b[39min\u001b[39;00m \u001b[39mrange\u001b[39m(\u001b[39m50\u001b[39m):\n\u001b[1;32m     <a href='vscode-notebook-cell:/Users/terry/Desktop/Grad_thesis/zollner_illusion/trainers/trainer_test.ipynb#W3sZmlsZQ%3D%3D?line=31'>32</a>\u001b[0m     \u001b[39mprint\u001b[39m(\u001b[39m'\u001b[39m\u001b[39mEpoch \u001b[39m\u001b[39m{}\u001b[39;00m\u001b[39m/\u001b[39m\u001b[39m{}\u001b[39;00m\u001b[39m'\u001b[39m\u001b[39m.\u001b[39mformat(epoch\u001b[39m+\u001b[39m\u001b[39m1\u001b[39m, epochs))\n\u001b[0;32m---> <a href='vscode-notebook-cell:/Users/terry/Desktop/Grad_thesis/zollner_illusion/trainers/trainer_test.ipynb#W3sZmlsZQ%3D%3D?line=32'>33</a>\u001b[0m     train_loss \u001b[39m=\u001b[39m train_one_epoch(network, train_dl, criterion, optimizer, scaler, device)\n\u001b[1;32m     <a href='vscode-notebook-cell:/Users/terry/Desktop/Grad_thesis/zollner_illusion/trainers/trainer_test.ipynb#W3sZmlsZQ%3D%3D?line=33'>34</a>\u001b[0m     \u001b[39mprint\u001b[39m(\u001b[39m'\u001b[39m\u001b[39mTrain Loss: \u001b[39m\u001b[39m{:.4f}\u001b[39;00m\u001b[39m'\u001b[39m\u001b[39m.\u001b[39mformat(train_loss))\n\u001b[1;32m     <a href='vscode-notebook-cell:/Users/terry/Desktop/Grad_thesis/zollner_illusion/trainers/trainer_test.ipynb#W3sZmlsZQ%3D%3D?line=34'>35</a>\u001b[0m     network\u001b[39m.\u001b[39msave()\n",
      "\u001b[1;32m/Users/terry/Desktop/Grad_thesis/zollner_illusion/trainers/trainer_test.ipynb Cell 3\u001b[0m in \u001b[0;36mtrain_one_epoch\u001b[0;34m(network, train_dl, criterion, optimizer, scaler, device)\u001b[0m\n\u001b[1;32m      <a href='vscode-notebook-cell:/Users/terry/Desktop/Grad_thesis/zollner_illusion/trainers/trainer_test.ipynb#W3sZmlsZQ%3D%3D?line=2'>3</a>\u001b[0m train_loss \u001b[39m=\u001b[39m \u001b[39m0.0\u001b[39m\n\u001b[1;32m      <a href='vscode-notebook-cell:/Users/terry/Desktop/Grad_thesis/zollner_illusion/trainers/trainer_test.ipynb#W3sZmlsZQ%3D%3D?line=3'>4</a>\u001b[0m network\u001b[39m.\u001b[39mtrain()\n\u001b[0;32m----> <a href='vscode-notebook-cell:/Users/terry/Desktop/Grad_thesis/zollner_illusion/trainers/trainer_test.ipynb#W3sZmlsZQ%3D%3D?line=4'>5</a>\u001b[0m \u001b[39mfor\u001b[39;00m images, labels \u001b[39min\u001b[39;00m tqdm(train_dl):\n\u001b[1;32m      <a href='vscode-notebook-cell:/Users/terry/Desktop/Grad_thesis/zollner_illusion/trainers/trainer_test.ipynb#W3sZmlsZQ%3D%3D?line=5'>6</a>\u001b[0m     images \u001b[39m=\u001b[39m images\u001b[39m.\u001b[39mto(device)\n\u001b[1;32m      <a href='vscode-notebook-cell:/Users/terry/Desktop/Grad_thesis/zollner_illusion/trainers/trainer_test.ipynb#W3sZmlsZQ%3D%3D?line=6'>7</a>\u001b[0m     labels \u001b[39m=\u001b[39m labels\u001b[39m.\u001b[39mto(device)\n",
      "File \u001b[0;32m~/miniconda3/envs/torch-nightly/lib/python3.8/site-packages/tqdm/std.py:1195\u001b[0m, in \u001b[0;36mtqdm.__iter__\u001b[0;34m(self)\u001b[0m\n\u001b[1;32m   1192\u001b[0m time \u001b[39m=\u001b[39m \u001b[39mself\u001b[39m\u001b[39m.\u001b[39m_time\n\u001b[1;32m   1194\u001b[0m \u001b[39mtry\u001b[39;00m:\n\u001b[0;32m-> 1195\u001b[0m     \u001b[39mfor\u001b[39;00m obj \u001b[39min\u001b[39;00m iterable:\n\u001b[1;32m   1196\u001b[0m         \u001b[39myield\u001b[39;00m obj\n\u001b[1;32m   1197\u001b[0m         \u001b[39m# Update and possibly print the progressbar.\u001b[39;00m\n\u001b[1;32m   1198\u001b[0m         \u001b[39m# Note: does not call self.update(1) for speed optimisation.\u001b[39;00m\n",
      "File \u001b[0;32m~/miniconda3/envs/torch-nightly/lib/python3.8/site-packages/torch/utils/data/dataloader.py:633\u001b[0m, in \u001b[0;36m_BaseDataLoaderIter.__next__\u001b[0;34m(self)\u001b[0m\n\u001b[1;32m    630\u001b[0m \u001b[39mif\u001b[39;00m \u001b[39mself\u001b[39m\u001b[39m.\u001b[39m_sampler_iter \u001b[39mis\u001b[39;00m \u001b[39mNone\u001b[39;00m:\n\u001b[1;32m    631\u001b[0m     \u001b[39m# TODO(https://github.com/pytorch/pytorch/issues/76750)\u001b[39;00m\n\u001b[1;32m    632\u001b[0m     \u001b[39mself\u001b[39m\u001b[39m.\u001b[39m_reset()  \u001b[39m# type: ignore[call-arg]\u001b[39;00m\n\u001b[0;32m--> 633\u001b[0m data \u001b[39m=\u001b[39m \u001b[39mself\u001b[39;49m\u001b[39m.\u001b[39;49m_next_data()\n\u001b[1;32m    634\u001b[0m \u001b[39mself\u001b[39m\u001b[39m.\u001b[39m_num_yielded \u001b[39m+\u001b[39m\u001b[39m=\u001b[39m \u001b[39m1\u001b[39m\n\u001b[1;32m    635\u001b[0m \u001b[39mif\u001b[39;00m \u001b[39mself\u001b[39m\u001b[39m.\u001b[39m_dataset_kind \u001b[39m==\u001b[39m _DatasetKind\u001b[39m.\u001b[39mIterable \u001b[39mand\u001b[39;00m \\\n\u001b[1;32m    636\u001b[0m         \u001b[39mself\u001b[39m\u001b[39m.\u001b[39m_IterableDataset_len_called \u001b[39mis\u001b[39;00m \u001b[39mnot\u001b[39;00m \u001b[39mNone\u001b[39;00m \u001b[39mand\u001b[39;00m \\\n\u001b[1;32m    637\u001b[0m         \u001b[39mself\u001b[39m\u001b[39m.\u001b[39m_num_yielded \u001b[39m>\u001b[39m \u001b[39mself\u001b[39m\u001b[39m.\u001b[39m_IterableDataset_len_called:\n",
      "File \u001b[0;32m~/miniconda3/envs/torch-nightly/lib/python3.8/site-packages/torch/utils/data/dataloader.py:677\u001b[0m, in \u001b[0;36m_SingleProcessDataLoaderIter._next_data\u001b[0;34m(self)\u001b[0m\n\u001b[1;32m    675\u001b[0m \u001b[39mdef\u001b[39;00m \u001b[39m_next_data\u001b[39m(\u001b[39mself\u001b[39m):\n\u001b[1;32m    676\u001b[0m     index \u001b[39m=\u001b[39m \u001b[39mself\u001b[39m\u001b[39m.\u001b[39m_next_index()  \u001b[39m# may raise StopIteration\u001b[39;00m\n\u001b[0;32m--> 677\u001b[0m     data \u001b[39m=\u001b[39m \u001b[39mself\u001b[39;49m\u001b[39m.\u001b[39;49m_dataset_fetcher\u001b[39m.\u001b[39;49mfetch(index)  \u001b[39m# may raise StopIteration\u001b[39;00m\n\u001b[1;32m    678\u001b[0m     \u001b[39mif\u001b[39;00m \u001b[39mself\u001b[39m\u001b[39m.\u001b[39m_pin_memory:\n\u001b[1;32m    679\u001b[0m         data \u001b[39m=\u001b[39m _utils\u001b[39m.\u001b[39mpin_memory\u001b[39m.\u001b[39mpin_memory(data, \u001b[39mself\u001b[39m\u001b[39m.\u001b[39m_pin_memory_device)\n",
      "File \u001b[0;32m~/miniconda3/envs/torch-nightly/lib/python3.8/site-packages/torch/utils/data/_utils/fetch.py:51\u001b[0m, in \u001b[0;36m_MapDatasetFetcher.fetch\u001b[0;34m(self, possibly_batched_index)\u001b[0m\n\u001b[1;32m     49\u001b[0m         data \u001b[39m=\u001b[39m \u001b[39mself\u001b[39m\u001b[39m.\u001b[39mdataset\u001b[39m.\u001b[39m__getitems__(possibly_batched_index)\n\u001b[1;32m     50\u001b[0m     \u001b[39melse\u001b[39;00m:\n\u001b[0;32m---> 51\u001b[0m         data \u001b[39m=\u001b[39m [\u001b[39mself\u001b[39m\u001b[39m.\u001b[39mdataset[idx] \u001b[39mfor\u001b[39;00m idx \u001b[39min\u001b[39;00m possibly_batched_index]\n\u001b[1;32m     52\u001b[0m \u001b[39melse\u001b[39;00m:\n\u001b[1;32m     53\u001b[0m     data \u001b[39m=\u001b[39m \u001b[39mself\u001b[39m\u001b[39m.\u001b[39mdataset[possibly_batched_index]\n",
      "File \u001b[0;32m~/miniconda3/envs/torch-nightly/lib/python3.8/site-packages/torch/utils/data/_utils/fetch.py:51\u001b[0m, in \u001b[0;36m<listcomp>\u001b[0;34m(.0)\u001b[0m\n\u001b[1;32m     49\u001b[0m         data \u001b[39m=\u001b[39m \u001b[39mself\u001b[39m\u001b[39m.\u001b[39mdataset\u001b[39m.\u001b[39m__getitems__(possibly_batched_index)\n\u001b[1;32m     50\u001b[0m     \u001b[39melse\u001b[39;00m:\n\u001b[0;32m---> 51\u001b[0m         data \u001b[39m=\u001b[39m [\u001b[39mself\u001b[39;49m\u001b[39m.\u001b[39;49mdataset[idx] \u001b[39mfor\u001b[39;00m idx \u001b[39min\u001b[39;00m possibly_batched_index]\n\u001b[1;32m     52\u001b[0m \u001b[39melse\u001b[39;00m:\n\u001b[1;32m     53\u001b[0m     data \u001b[39m=\u001b[39m \u001b[39mself\u001b[39m\u001b[39m.\u001b[39mdataset[possibly_batched_index]\n",
      "File \u001b[0;32m~/Desktop/Grad_thesis/zollner_illusion/trainers/../dataloaders/dataloader.py:37\u001b[0m, in \u001b[0;36mTrainingDatasets.__getitem__\u001b[0;34m(self, index)\u001b[0m\n\u001b[1;32m     35\u001b[0m label \u001b[39m=\u001b[39m cv2\u001b[39m.\u001b[39mimread(\u001b[39mself\u001b[39m\u001b[39m.\u001b[39mlabels[index])\n\u001b[1;32m     36\u001b[0m label \u001b[39m=\u001b[39m cv2\u001b[39m.\u001b[39mcvtColor(label, cv2\u001b[39m.\u001b[39mCOLOR_BGR2HSV)\n\u001b[0;32m---> 37\u001b[0m label_xy \u001b[39m=\u001b[39m helper\u001b[39m.\u001b[39;49mconvertHSVtoXY(label)\u001b[39m.\u001b[39mastype(np\u001b[39m.\u001b[39mfloat32)\n\u001b[1;32m     39\u001b[0m \u001b[39mreturn\u001b[39;00m \u001b[39mself\u001b[39m\u001b[39m.\u001b[39mtransform(image), \u001b[39mself\u001b[39m\u001b[39m.\u001b[39mtransform(label_xy)\n",
      "File \u001b[0;32m~/Desktop/Grad_thesis/zollner_illusion/trainers/../helpers/helper.py:58\u001b[0m, in \u001b[0;36mconvertHSVtoXY\u001b[0;34m(label_HSV)\u001b[0m\n\u001b[1;32m     56\u001b[0m \u001b[39mfor\u001b[39;00m i \u001b[39min\u001b[39;00m \u001b[39mrange\u001b[39m(label_HSV\u001b[39m.\u001b[39mshape[\u001b[39m0\u001b[39m]):\n\u001b[1;32m     57\u001b[0m     \u001b[39mfor\u001b[39;00m j \u001b[39min\u001b[39;00m \u001b[39mrange\u001b[39m(label_HSV\u001b[39m.\u001b[39mshape[\u001b[39m1\u001b[39m]):\n\u001b[0;32m---> 58\u001b[0m         \u001b[39mif\u001b[39;00m label_HSV[i][j][\u001b[39m1\u001b[39m] \u001b[39m==\u001b[39m \u001b[39m0\u001b[39m \u001b[39mand\u001b[39;00m label_HSV[i][j][\u001b[39m2\u001b[39m] \u001b[39m==\u001b[39m \u001b[39m0\u001b[39m:\n\u001b[1;32m     59\u001b[0m             label_xy[i][j] \u001b[39m=\u001b[39m [\u001b[39m0\u001b[39m, \u001b[39m0\u001b[39m]\n\u001b[1;32m     60\u001b[0m         \u001b[39melse\u001b[39;00m:\n",
      "\u001b[0;31mKeyboardInterrupt\u001b[0m: "
     ]
    }
   ],
   "source": [
    "def train_one_epoch(network, train_dl, criterion, optimizer, scaler, device):\n",
    "    # train_acc = 0.0\n",
    "    train_loss = 0.0\n",
    "    network.train()\n",
    "    for images, labels in tqdm(train_dl):\n",
    "        images = images.to(device)\n",
    "        labels = labels.to(device)\n",
    "        optimizer.zero_grad()\n",
    "        with torch.cuda.amp.autocast(enabled=True):\n",
    "            output = network(images)\n",
    "            loss = criterion(output, labels)\n",
    "        scaler.scale(loss).backward()\n",
    "        scaler.step(optimizer)\n",
    "        scaler.update()\n",
    "        # acc = ((output.argmax(dim=1) == labels).float().mean())\n",
    "        # train_acc += acc\n",
    "        train_loss += loss\n",
    "        del output\n",
    "        del loss\n",
    "        \n",
    "    # Decay LR by a factor of 0.1 every 2 epochs\n",
    "    # exp_lr_scheduler.step()\n",
    "    network.save()\n",
    "    return train_loss/len(train_dl)\n",
    "\n",
    "def train(network, train_dl, device, epochs, lr=0.001):\n",
    "    network.to(device)\n",
    "    criterion = nn.MSELoss(reduction='sum')\n",
    "    optimizer = torch.optim.Adam(network.parameters(), lr)\n",
    "    scaler = torch.cuda.amp.GradScaler()\n",
    "    for epoch in range(50):\n",
    "        print('Epoch {}/{}'.format(epoch+1, epochs))\n",
    "        train_loss = train_one_epoch(network, train_dl, criterion, optimizer, scaler, device)\n",
    "        print('Train Loss: {:.4f}'.format(train_loss))\n",
    "        network.save()\n",
    "\n",
    "train(network, train_dl, device, 50, lr=0.001)"
   ]
  },
  {
   "cell_type": "code",
   "execution_count": 35,
   "metadata": {},
   "outputs": [
    {
     "name": "stdout",
     "output_type": "stream",
     "text": [
      "Load model from ../models/unet_default.pth\n"
     ]
    },
    {
     "name": "stderr",
     "output_type": "stream",
     "text": [
      "100%|██████████| 80/80 [00:20<00:00,  3.87it/s]\n"
     ]
    }
   ],
   "source": [
    "# takes in a single image and outputs the predicted label\n",
    "def validate(network, device, image_path, output_path=\"\"):\n",
    "    network.eval()\n",
    "    network.to(device)\n",
    "    image = cv2.imread(image_path)\n",
    "    image = cv2.cvtColor(image, cv2.COLOR_BGR2RGB)\n",
    "    image = config.transform(image).unsqueeze(0)\n",
    "    output = network(image.to(device))\n",
    "    if output_path != \"\":\n",
    "        helper.save_tensor_output(output[0], output_path)\n",
    "\n",
    "network, network_dir = Unet.get_model(), \"Unet\"\n",
    "for direction in tqdm(range(0, 80, 1)):\n",
    "    for thickness in range(1, 4):\n",
    "        image_path = f'../../datasets/experiment/images/img_{direction}_{thickness}.png'\n",
    "        output_path = f'../../datasets/experiment/outputs/{network_dir}/img_{direction}_{thickness}.png'\n",
    "        # get the network and its output directory\n",
    "        validate(network, device, image_path=image_path, output_path=output_path)\n"
   ]
  },
  {
   "cell_type": "code",
   "execution_count": 39,
   "metadata": {},
   "outputs": [
    {
     "data": {
      "text/plain": [
       "3.0543261909900767"
      ]
     },
     "execution_count": 39,
     "metadata": {},
     "output_type": "execute_result"
    }
   ],
   "source": [
    "helper.convertDegreeToRadian(355)"
   ]
  }
 ],
 "metadata": {
  "kernelspec": {
   "display_name": "torch-nightly",
   "language": "python",
   "name": "python3"
  },
  "language_info": {
   "codemirror_mode": {
    "name": "ipython",
    "version": 3
   },
   "file_extension": ".py",
   "mimetype": "text/x-python",
   "name": "python",
   "nbconvert_exporter": "python",
   "pygments_lexer": "ipython3",
   "version": "3.8.13"
  },
  "orig_nbformat": 4
 },
 "nbformat": 4,
 "nbformat_minor": 2
}
