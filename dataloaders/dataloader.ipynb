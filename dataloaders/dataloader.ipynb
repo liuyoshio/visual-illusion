{
 "cells": [
  {
   "cell_type": "code",
   "execution_count": 70,
   "metadata": {},
   "outputs": [
    {
     "name": "stdout",
     "output_type": "stream",
     "text": [
      "Trainset: 1000\n",
      "input shape:  torch.Size([1, 3, 256, 256])\n",
      "label2 shape:  torch.Size([1, 2, 256, 256])\n"
     ]
    },
    {
     "data": {
      "image/png": "[encoded data removed]",
      "text/plain": [
       "<Figure size 432x288 with 1 Axes>"
      ]
     },
     "metadata": {
      "needs_background": "light"
     },
     "output_type": "display_data"
    }
   ],
   "source": [
    "from helpers import helper\n",
    "import sys\n",
    "sys.path.append('../')\n",
    "import numpy as np\n",
    "import cv2\n",
    "import pandas as pd\n",
    "from matplotlib import pyplot as plt\n",
    "from torch.utils.data import Dataset\n",
    "from torchvision import transforms\n",
    "from torch.utils.data import DataLoader\n",
    "\n",
    "transform = transforms.Compose([\n",
    "    transforms.ToTensor(),\n",
    "])\n",
    "\n",
    "class TrainingDatasets(Dataset):\n",
    "    def __init__(self, Inputs, Labels, Transform):\n",
    "        self.fnames = Inputs\n",
    "        self.transform = Transform\n",
    "        self.labels = Labels         \n",
    "        \n",
    "    def __len__(self):\n",
    "        return len(self.fnames)\n",
    "\n",
    "    # Returns the tensor image and corresponding label in a tuple\n",
    "    def __getitem__(self, index):       \n",
    "        # read input and convert to RGB\n",
    "        input = cv2.imread(self.fnames[index])\n",
    "        input = cv2.cvtColor(input, cv2.COLOR_BGR2RGB)\n",
    "\n",
    "        # read label and convert to HSV, then to label_xy\n",
    "        label = cv2.imread(self.labels[index])\n",
    "        label = cv2.cvtColor(label, cv2.COLOR_BGR2HSV)\n",
    "        label_xy = helper.convertHSVtoXY(label)\n",
    "\n",
    "        return self.transform(input), self.transform(label_xy)\n",
    "\n",
    "# return dataset and dataloader    \n",
    "def getData(path_to_csv, batch_size=1):\n",
    "    df = pd.read_csv(path_to_csv)\n",
    "    inputs = df['input_path'].values\n",
    "    labels = df['label_path'].values\n",
    "    dataset = TrainingDatasets(inputs, labels, transform)\n",
    "    dataloader = DataLoader(dataset, batch_size=batch_size, shuffle=True)\n",
    "    return dataset, dataloader\n",
    "\n",
    "\n",
    "if __name__ == '__main__':\n",
    "    trainset, train_dl = getData('../../datasets/train.csv', batch_size=1)\n",
    "    print('Trainset:', len(trainset))\n",
    "    for images, labels in train_dl:\n",
    "        print('input shape: ', images.shape)\n",
    "        print('label2 shape: ', labels.shape)\n",
    "        break\n",
    "\n",
    "    label_HSV = helper.convertXYtoHSV(labels[0].permute(1,2,0).numpy())\n",
    "    plt.imshow(cv2.cvtColor(label_HSV, cv2.COLOR_HSV2RGB))\n",
    "\n",
    "        \n",
    "        "
   ]
  }
 ],
 "metadata": {
  "kernelspec": {
   "display_name": "torch-nightly",
   "language": "python",
   "name": "python3"
  },
  "language_info": {
   "codemirror_mode": {
    "name": "ipython",
    "version": 3
   },
   "file_extension": ".py",
   "mimetype": "text/x-python",
   "name": "python",
   "nbconvert_exporter": "python",
   "pygments_lexer": "ipython3",
   "version": "3.8.13"
  },
  "orig_nbformat": 4
 },
 "nbformat": 4,
 "nbformat_minor": 2
}
